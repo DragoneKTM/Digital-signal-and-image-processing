{
  "nbformat": 4,
  "nbformat_minor": 0,
  "metadata": {
    "colab": {
      "name": "DSIM_image_retrival.ipynb",
      "provenance": [],
      "authorship_tag": "ABX9TyOfRma9p3Rkq+gy2epjQ1SU",
      "include_colab_link": true
    },
    "kernelspec": {
      "name": "python3",
      "display_name": "Python 3"
    },
    "language_info": {
      "name": "python"
    }
  },
  "cells": [
    {
      "cell_type": "markdown",
      "metadata": {
        "id": "view-in-github",
        "colab_type": "text"
      },
      "source": [
        "<a href=\"https://colab.research.google.com/github/DragoneKTM/Digital-signal-and-image-processing/blob/main/DSIM_image_retrival.ipynb\" target=\"_parent\"><img src=\"https://colab.research.google.com/assets/colab-badge.svg\" alt=\"Open In Colab\"/></a>"
      ]
    },
    {
      "cell_type": "code",
      "source": [
        "import pandas as pd\n",
        "import numpy as np\n",
        "import os\n",
        "import zipfile\n",
        "from shutil import copyfile\n",
        "import cv2 as cv\n",
        "from google.colab.patches import cv2_imshow\n",
        "from cv2 import CascadeClassifier\n",
        "from sklearn.model_selection import train_test_split"
      ],
      "metadata": {
        "id": "J2BBYAhNzjGL"
      },
      "execution_count": null,
      "outputs": []
    },
    {
      "cell_type": "markdown",
      "source": [
        "## Load dataset "
      ],
      "metadata": {
        "id": "ed3YIh8Cyxx0"
      }
    },
    {
      "cell_type": "markdown",
      "source": [
        "VIPs dataset"
      ],
      "metadata": {
        "id": "xYUcALMeH8Pz"
      }
    },
    {
      "cell_type": "code",
      "source": [
        "# Link Google Drive account, transfer dataset, and extract files\n",
        "from google.colab import drive\n",
        "drive.mount('/content/gdrive')\n",
        "\n",
        "copyfile('gdrive/My Drive/vip.zip', 'vip.zip')\n",
        "zip = zipfile.ZipFile('vip.zip')\n",
        "zip.extractall()\n",
        "zip.close()"
      ],
      "metadata": {
        "colab": {
          "base_uri": "https://localhost:8080/"
        },
        "id": "V-2JPqJAyxbj",
        "outputId": "61a713b7-fd19-4e4c-b0ff-81ba34840609"
      },
      "execution_count": null,
      "outputs": [
        {
          "output_type": "stream",
          "name": "stdout",
          "text": [
            "Drive already mounted at /content/gdrive; to attempt to forcibly remount, call drive.mount(\"/content/gdrive\", force_remount=True).\n"
          ]
        }
      ]
    },
    {
      "cell_type": "markdown",
      "source": [
        "## Data loader + face detection"
      ],
      "metadata": {
        "id": "W3XFsAfoIzAd"
      }
    },
    {
      "cell_type": "code",
      "source": [
        "def face_detection(img):\n",
        "    # funzione che data un'immagine ritorna solamente il crop della faccia che trova al suo interno\n",
        "    classifier = CascadeClassifier('/haarcascade_frontalface_default.xml')\n",
        "    box = classifier.detectMultiScale(img, minNeighbors=30)\n",
        "    #se non trova nessuna faccia non ritorna niente\n",
        "    (x,y,w,h) = (0,0,0,0)\n",
        "    if box is ():\n",
        "        return None\n",
        "    #altrimenti ritorna solo la prima faccia\n",
        "    else:\n",
        "        (x,y,w,h) = box[0]\n",
        "        return cv.resize(img[y:y+h, x:x+w, :], (224,224))"
      ],
      "metadata": {
        "id": "Q5TIrziSIMgj"
      },
      "execution_count": null,
      "outputs": []
    },
    {
      "cell_type": "code",
      "source": [
        "def load_data():\n",
        "    # funzione che per con le immagini crea il dataset di train e test applicando prima la funzione di face detection\n",
        "    root = '/content/thumbnails_features_deduped_publish'\n",
        "\n",
        "    labels = []\n",
        "    images = []\n",
        "\n",
        "    \n",
        "    for folder in sorted(os.listdir(root)):\n",
        "    #dalla cartella principale apro solo le cartelle (no file .txt etc.)\n",
        "        if not os.path.isfile(os.listdir(root + \"\" + folder)):\n",
        "            for file in sorted(os.listdir(root + \"\" + folder)):\n",
        "            # per ogni foto che trovo nelle cartelle vips, opero face detection e salvo il risultato\n",
        "                if file.endswith('.jpg'):\n",
        "                    img = cv.imread(root + \"/\" + folder)\n",
        "                    img = (face_detection(img))\n",
        "                    #se il face detector trova un'immagine allora la aggiunge al dataset\n",
        "                    if img is not None:\n",
        "                        images.append(img)\n",
        "                        # lable\n",
        "                        labels.append(str(folder))\n",
        "\n",
        "    X_train, X_test, y_train, y_test = train_test_split(images, labels, test_size=0.1, random_state=1)\n",
        "    return X_train, X_test, y_train, y_test"
      ],
      "metadata": {
        "id": "DNhkWmyzI9ui"
      },
      "execution_count": null,
      "outputs": []
    },
    {
      "cell_type": "code",
      "source": [
        "X_train, X_test, y_train, y_test = load_data()"
      ],
      "metadata": {
        "id": "sVonFwzILdGw"
      },
      "execution_count": null,
      "outputs": []
    }
  ]
}